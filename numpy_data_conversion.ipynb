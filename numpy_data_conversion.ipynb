{
 "cells": [
  {
   "cell_type": "code",
   "execution_count": 1,
   "id": "077e9bee",
   "metadata": {},
   "outputs": [],
   "source": [
    "import numpy as np\n",
    "import struct"
   ]
  },
  {
   "cell_type": "code",
   "execution_count": 2,
   "id": "45d5f56d",
   "metadata": {},
   "outputs": [],
   "source": [
    "data_int32 = np.array([0x42481789], dtype='int32')\n",
    "data_int32_to_int8 = np.flipud(data_int32.view('int8'))\n",
    "ground_truth_int8 = np.array([0x42,0x48,0x17,0x89], dtype='int8')"
   ]
  },
  {
   "cell_type": "code",
   "execution_count": 3,
   "id": "e4d11f19",
   "metadata": {},
   "outputs": [
    {
     "name": "stdout",
     "output_type": "stream",
     "text": [
      "[  66   72   23 -119]\n",
      "[  66   72   23 -119]\n"
     ]
    }
   ],
   "source": [
    "print(data_int32_to_int8)\n",
    "print(ground_truth_int8)"
   ]
  },
  {
   "cell_type": "code",
   "execution_count": 4,
   "id": "8aefcfb5",
   "metadata": {},
   "outputs": [],
   "source": [
    "def get_fp(fp16):\n",
    "    fp_val=hex(fp16)\n",
    "#     print('HEX val:', fp_val)\n",
    "    fp_val = struct.pack('H', int(fp_val,16))\n",
    "    fp_val = np.frombuffer(fp_val, dtype='float16')[0]\n",
    "    return fp_val"
   ]
  },
  {
   "cell_type": "code",
   "execution_count": 5,
   "id": "cb03915c",
   "metadata": {},
   "outputs": [
    {
     "name": "stdout",
     "output_type": "stream",
     "text": [
      "['3.1406250', '0.0018396']\n",
      "['3.1406250', '0.0018396']\n"
     ]
    }
   ],
   "source": [
    "data_int32_to_fp16 = np.flipud(data_int32.view('float16'))\n",
    "ground_truth_fp16 = [get_fp(0x4248), get_fp(0x1789)]\n",
    "print([ \"{:0.7f}\".format(x) for x in data_int32_to_fp16])\n",
    "print([ \"{:0.7f}\".format(x) for x in ground_truth_fp16])"
   ]
  }
 ],
 "metadata": {
  "kernelspec": {
   "display_name": "Python 3 (ipykernel)",
   "language": "python",
   "name": "python3"
  },
  "language_info": {
   "codemirror_mode": {
    "name": "ipython",
    "version": 3
   },
   "file_extension": ".py",
   "mimetype": "text/x-python",
   "name": "python",
   "nbconvert_exporter": "python",
   "pygments_lexer": "ipython3",
   "version": "3.9.12"
  }
 },
 "nbformat": 4,
 "nbformat_minor": 5
}
